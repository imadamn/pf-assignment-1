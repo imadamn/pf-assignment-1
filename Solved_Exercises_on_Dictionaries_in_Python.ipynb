{
  "nbformat": 4,
  "nbformat_minor": 0,
  "metadata": {
    "colab": {
      "provenance": []
    },
    "kernelspec": {
      "name": "python3",
      "display_name": "Python 3"
    },
    "language_info": {
      "name": "python"
    }
  },
  "cells": [
    {
      "cell_type": "code",
      "execution_count": 1,
      "metadata": {
        "colab": {
          "base_uri": "https://localhost:8080/",
          "height": 0
        },
        "id": "B_sIvXyDXqN2",
        "outputId": "21b06ceb-373f-4ee9-f3e8-fdd968646a33"
      },
      "outputs": [
        {
          "output_type": "stream",
          "name": "stdout",
          "text": [
            "{'name': 'Adam', 'age': 18, 'city': 'Lahore', 'hobby': 'gaming'}\n"
          ]
        }
      ],
      "source": [
        "#a\n",
        "person =  {\n",
        "    \"name\":\"Adam\",\n",
        "    \"age\":18,\n",
        "    \"city\":\"Lahore\",\n",
        "    \"hobby\":\"gaming\"\n",
        "}\n",
        "print(person)"
      ]
    },
    {
      "cell_type": "code",
      "source": [
        "#b\n",
        "text = input(\"Enter a text:\")\n",
        "words = text.split()\n",
        "count_word={}\n",
        "for word in words:\n",
        "  if word in count_word:\n",
        "    count_word[word] += 1\n",
        "  else:\n",
        "    count_word[word] = 1\n",
        "print(\"\\nWord Frequency:\")\n",
        "for word, count in count_word.items():\n",
        "  print(f\"{word}:{count}\")\n"
      ],
      "metadata": {
        "colab": {
          "base_uri": "https://localhost:8080/",
          "height": 0
        },
        "id": "VudqgK2SYYfA",
        "outputId": "e147dd0a-13a7-4f84-f6b2-fe488a7f64f6"
      },
      "execution_count": 57,
      "outputs": [
        {
          "output_type": "stream",
          "name": "stdout",
          "text": [
            "Enter a text:i am a good but he is not good\n",
            "\n",
            "Word Frequency:\n",
            "i:1\n",
            "am:1\n",
            "a:1\n",
            "good:2\n",
            "but:1\n",
            "he:1\n",
            "is:1\n",
            "not:1\n"
          ]
        }
      ]
    },
    {
      "cell_type": "code",
      "source": [
        "#c\n",
        "inventory = {\n",
        "    \"drums\":10,\n",
        "    \"gallons\":20,\n",
        "    \"quater\":15\n",
        "}\n",
        "#to add an item\n",
        "new =input(\"Enter name of the item:\")\n",
        "quantity =int(input(\"Enter its quantity:\"))\n",
        "inventory[new]=quantity\n",
        "print(inventory)\n",
        "\n",
        "#to remove an item\n",
        "item = input(\"which item you want to remove:\")\n",
        "if item in inventory:\n",
        "  del inventory[item]\n",
        "else:\n",
        "  print(f\"{item} is not in inventory.\")\n",
        "print(inventory)"
      ],
      "metadata": {
        "id": "wKnpJhbrl4ID"
      },
      "execution_count": null,
      "outputs": []
    },
    {
      "cell_type": "code",
      "source": [
        "#or\n",
        "inventory = {}\n",
        "while True:\n",
        "  print(\"1.Show inventory\\n2.Add an Item\\n3.Remove an Item\\n4.Exit\")\n",
        "  choice = int(input(\"Enter your choice:\"))\n",
        "  if choice == 1:\n",
        "    if not inventory:\n",
        "      print(\"The inventory is empty\")\n",
        "    else:\n",
        "      print(inventory)\n",
        "  elif choice == 2:\n",
        "    item = input(\"Enter the item name:\")\n",
        "    quantity = int(input(\"Enter its quantity:\"))\n",
        "    if item in inventory:\n",
        "      inventory[item] += quantity\n",
        "    else:\n",
        "      inventory[item] = quantity\n",
        "      print(f\"{quantity} of {item} added to inventory.\")\n",
        "  elif choice == 3:\n",
        "    item = input(\"Enter the item name:\")\n",
        "    quantity = int(input(\"Enter its quantity:\"))\n",
        "    if item in inventory:\n",
        "      if inventory[item] > quantity:\n",
        "        inventory[item] -= quantity\n",
        "        print(f\"{quantity} of {item} removed from inventory.\")\n",
        "      elif inventory[item] == quantity:\n",
        "        del inventory[item]\n",
        "      else:\n",
        "        pass\n",
        "  elif choice == 4:\n",
        "    print(\"Exiting inventory system..\")\n",
        "    break\n",
        "  else:\n",
        "    print(\"Invalid input.\")\n",
        "\n"
      ],
      "metadata": {
        "colab": {
          "base_uri": "https://localhost:8080/",
          "height": 0
        },
        "id": "YB8-aC1pbvUF",
        "outputId": "eb4acf58-bc64-4b71-eede-6b8f303c02c1"
      },
      "execution_count": 55,
      "outputs": [
        {
          "output_type": "stream",
          "name": "stdout",
          "text": [
            "1.Show inventory\n",
            "2.Add an Item\n",
            "3.Remove an Item\n",
            "4.Exit\n",
            "Enter your choice:4\n",
            "Exiting inventory system..\n"
          ]
        }
      ]
    },
    {
      "cell_type": "code",
      "source": [
        "#d\n",
        "orders = {\n",
        "    \"order_id\": 1, \"product\":\"gallons\", \"category\": \"paint\",\n",
        "    \"order_id\": 2, \"product\":\"wire\",\" category\": \"electricty\",\n",
        "    \"order_id\": 3, \"product\":\"quaters\", \"category\": \"paint\",\n",
        "    \"order_id\": 4, \"product\":\"oilpaint\", \"category\": \"paint\",\n",
        "    \"order_id\": 5, \"product\":\"pipes\", \"category\": \"electricty\"\n",
        "}\n",
        "category_count={}\n",
        "for order in orders:\n",
        "  category = order[\"category\"]\n",
        "  category_count[category]=category_count.get(category, 0)+1\n",
        "most_popular=max(category_count,key=category_count.get)\n",
        "print(f\"Most popular category:{most_popular} with {category_count[most_popular]} orders\")"
      ],
      "metadata": {
        "id": "C0aQHxR_loT7"
      },
      "execution_count": 85,
      "outputs": []
    },
    {
      "cell_type": "code",
      "source": [
        "#e\n",
        "grades = {\n",
        "    \"maths\":15,\n",
        "    \"programming\":23,\n",
        "    \"ict\":20,\n",
        "    \"islamiyat\":16\n",
        "}\n",
        "total_grades = sum(grades.values())\n",
        "avg = total_grades/len(grades)\n",
        "print(f\"The average of all grades is {avg}\")"
      ],
      "metadata": {
        "colab": {
          "base_uri": "https://localhost:8080/",
          "height": 0
        },
        "id": "IqYuNKsRm5aa",
        "outputId": "150c64ec-48de-4cd0-8786-7977db52539e"
      },
      "execution_count": 28,
      "outputs": [
        {
          "output_type": "stream",
          "name": "stdout",
          "text": [
            "The average of all grades is 18.5\n"
          ]
        }
      ]
    },
    {
      "cell_type": "code",
      "source": [
        "#or\n",
        "grades = {}\n",
        "while True:\n",
        "  print(\"1.Show grades\\n2.Enter grades\\n3.Edit Grades\\n4.Print Average\\n5.Exit\")\n",
        "  choice=int(input(\"Enter your choice:\"))\n",
        "  if choice == 1:\n",
        "    if not grades:\n",
        "      print(\"No grades added yet.\")\n",
        "    else:\n",
        "      print(grades)\n",
        "  elif choice == 2:\n",
        "    sub = input(\"Enter subject:\")\n",
        "    marks = int(input(\"Enter its marks:\"))\n",
        "    grades[sub] = marks\n",
        "  elif choice == 3:\n",
        "    change_sub = input(\"Which subject's grades u want to change?\")\n",
        "    new_marks = int(input(\"Enter new grades:\"))\n",
        "    grades[change_sub] = new_marks\n",
        "  elif choice == 4:\n",
        "    total_grades = sum(grades.values())\n",
        "    avg = total_grades /len(grades)\n",
        "    print(f\"The average is {avg}\")\n",
        "  elif choice == 5:\n",
        "   print(\"exiting...\")\n",
        "   break\n",
        "  else:\n",
        "    print(\"Invalid input\")"
      ],
      "metadata": {
        "colab": {
          "base_uri": "https://localhost:8080/",
          "height": 0
        },
        "id": "EijP5i3IpRDY",
        "outputId": "691ea6fb-2e9f-4ad2-8361-3490401c6e0c"
      },
      "execution_count": 54,
      "outputs": [
        {
          "output_type": "stream",
          "name": "stdout",
          "text": [
            "1.Show grades\n",
            "2.Enter grades\n",
            "3.Edit Grades\n",
            "4.Print Average\n",
            "5.Exit\n",
            "Enter your choice:5\n",
            "exiting...\n"
          ]
        }
      ]
    },
    {
      "cell_type": "code",
      "source": [
        "#f\n",
        "products = {}\n",
        "while True:\n",
        "  print(\"\\n1.Add new product\\n2.Update product quantities\\n3.Total inventory value\\n4.Report of low stock items\\n5.Exit\")\n",
        "  choice = int(input(\"Enter your choice:\"))\n",
        "  if choice == 1:\n",
        "    name = input(\"Enter name of the product:\")\n",
        "    if name in products:\n",
        "      print(f\"{name} is already in products.\")\n",
        "    else:\n",
        "      quantity = int(input(\"Enter its quantity:\"))\n",
        "      products[name] = quantity\n",
        "  elif choice == 2:\n",
        "    print(products)\n",
        "    temp = input(\"Enter which product's qantity you wanna change:\")\n",
        "    if temp in products:\n",
        "      new_quant = int(input(\"Enter updated quantity:\"))\n",
        "      products[temp] = new_quant\n",
        "      print(f\"Quantity of {temp} is updated.\")\n",
        "    else:\n",
        "      print(f\"There's no product named {temp} in products.\")\n",
        "  elif choice == 3:\n",
        "    total = sum(products.values())\n",
        "    print(f\"Total quantity of products in inventory is {total}\")\n",
        "  elif choice == 4:\n",
        "    min_stock = int(input(\"Enter minimum stock:\"))\n",
        "    for name in products:\n",
        "      if quantity < min_stock:\n",
        "        lowstock = {name}\n",
        "    print(f\"low stock items:{name}\")\n",
        "  elif choice == 5:\n",
        "    break\n",
        "  else:\n",
        "    print(\"Invalid input.\")\n",
        "\n"
      ],
      "metadata": {
        "colab": {
          "base_uri": "https://localhost:8080/",
          "height": 0
        },
        "id": "-zZq9QRG48mX",
        "outputId": "104660a4-2bba-4450-a54f-2193b9c92e67"
      },
      "execution_count": 53,
      "outputs": [
        {
          "name": "stdout",
          "output_type": "stream",
          "text": [
            "\n",
            "1.Add new product\n",
            "2.Update product quantities\n",
            "3.Total inventory value\n",
            "4.Report of low stock items\n",
            "5.Exit\n",
            "Enter your choice:5\n"
          ]
        }
      ]
    },
    {
      "cell_type": "code",
      "source": [
        "#g\n",
        "students = {}\n",
        "name = input(\"Enter the name of students:\")\n",
        "subjects = int(input(f\"Enter number of subjects for {name}:\"))\n",
        "grades ={}\n",
        "for _ in range(subjects):\n",
        "  subject = input(\"Enter subject name:\")\n",
        "  grade = float(input(f\"Enter grades for {subject}:\"))\n",
        "  grades[subject] = grade\n",
        "students[name] = grades\n",
        "avg = {}\n",
        "for name, grades in students.items():\n",
        "  total = sum(grades.values())\n",
        "  count = len(grades)\n",
        "  avg[name] = total/count\n",
        "print(students)\n",
        "print(avg)\n",
        "max_marks = max(grades.values())\n",
        "print(\"Highest marks are\",max_marks)\n",
        "min_marks = min(grades.values())\n",
        "print(\"Lowest marks are\",min_marks)"
      ],
      "metadata": {
        "colab": {
          "base_uri": "https://localhost:8080/",
          "height": 0
        },
        "id": "xA1FrfF4bLIC",
        "outputId": "08d23fe9-a8c4-4c94-d082-877fc3ebd1ce"
      },
      "execution_count": 63,
      "outputs": [
        {
          "output_type": "stream",
          "name": "stdout",
          "text": [
            "Enter the name of students:Adam\n",
            "Enter number of subjects for Adam:2\n",
            "Enter subject name:maths\n",
            "Enter grades for maths:26\n",
            "Enter subject name:programming\n",
            "Enter grades for programming:27\n",
            "{'Adam': {'maths': 26.0, 'programming': 27.0}}\n",
            "{'Adam': 26.5}\n",
            "Highest marks are 27.0\n",
            "Lowest marks are 26.0\n"
          ]
        }
      ]
    },
    {
      "cell_type": "code",
      "source": [
        "#h\n",
        "products = {\n",
        "    {\"apple\":{\"price\":4,\"quantity\":26},\n",
        "     \"mango\":{\"price\":2,\"quantity\":30},\n",
        "     \"orange\":{\"price\":5,\"quantity\":20}}\n",
        "}\n",
        "cart={}\n",
        "while True:\n",
        "  print(\"\\nProducts:\")\n",
        "  for name, info in products.items():\n",
        "    print(f\"{name}: Price={info['price']}, Stock={info['quantity']}\")\n",
        "\n",
        "  action = input(\"\\nType 'add', 'remove', or 'checkout':\")\n",
        "  if action == \"add\":\n",
        "    product = input(\"Enter product name:\")\n",
        "    if product in products:\n",
        "      quantity = int(input(\"Enter quantity:\"))\n",
        "      if quantity  <= products[product][\"quantity\"]:\n",
        "        cart[product] = cart.get(product, 0) + quantity\n",
        "        products[product][\"quantity\"] -= quantity\n",
        "      else:\n",
        "        print(\"Not enough space.\"))\n",
        "    else:\n",
        "      print(\"Product not found.\")\n",
        "  elif action == \"remove\":\n",
        "    product = input(\"Enter product to remove:\")\n",
        "    if product in cart:\n",
        "      quantity = int(input(\"Enter quantity to remove:\"))\n",
        "      if quantity <= cart[product]:\n",
        "        cart[product] -= quantity\n",
        "        products[product][\"quantity\"] =+ quantity\n",
        "        if cart[product] == 0:\n",
        "          del cart[product]\n",
        "      else:\n",
        "        print(\"Not enough qauntity in cart.\")\n",
        "    elif action == \"checkout\":\n",
        "      total = sum(products[p][\"price\"]*q for p,q in cart.items())\n",
        "      discount = total * 0.1\n",
        "      tax = (total - discount) * 0.08\n",
        "      final_total = total - discount + tax\n",
        "      print(\"\\nSubtotal\",total)\n",
        "      print(\"Discount:\",discount)\n",
        "      print(\"tax\",tax)\n",
        "      print(\"total:\",final_total)\n",
        "      break\n",
        "    else:\n",
        "      print(\"Invalid action.\")\n",
        "\n",
        "\n",
        "\n",
        "\n",
        ""
      ],
      "metadata": {
        "id": "SYQzSSMGxKKC"
      },
      "execution_count": null,
      "outputs": []
    }
  ]
}